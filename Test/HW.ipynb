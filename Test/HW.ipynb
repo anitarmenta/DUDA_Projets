{
 "cells": [
  {
   "cell_type": "code",
   "execution_count": 1,
   "metadata": {},
   "outputs": [
    {
     "name": "stdout",
     "output_type": "stream",
     "text": [
      "Hello World\n"
     ]
    }
   ],
   "source": [
    "print(\"Hello World\")"
   ]
  },
  {
   "cell_type": "code",
   "execution_count": 2,
   "metadata": {},
   "outputs": [
    {
     "name": "stdout",
     "output_type": "stream",
     "text": [
      "8\n"
     ]
    }
   ],
   "source": [
    "def cube(x):\n",
    "    \"\"\"\n",
    "    Cette fonction calcule le cube d'un nombre donné en argument.\n",
    "    \n",
    "    Args:\n",
    "    x (float): Le nombre dont on souhaite calculer le cube.\n",
    "    \n",
    "    Returns:\n",
    "    float: Le cube de x.\n",
    "    \"\"\"\n",
    "    return x**3\n",
    "\n",
    "print(cube(5))  # Résultat: 125\n",
    "\n"
   ]
  }
 ],
 "metadata": {
  "kernelspec": {
   "display_name": "Python 3",
   "language": "python",
   "name": "python3"
  },
  "language_info": {
   "codemirror_mode": {
    "name": "ipython",
    "version": 3
   },
   "file_extension": ".py",
   "mimetype": "text/x-python",
   "name": "python",
   "nbconvert_exporter": "python",
   "pygments_lexer": "ipython3",
   "version": "3.8.5"
  },
  "orig_nbformat": 4
 },
 "nbformat": 4,
 "nbformat_minor": 2
}
