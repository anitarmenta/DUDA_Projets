{
 "cells": [
  {
   "cell_type": "markdown",
   "metadata": {},
   "source": [
    "<img src=\"CY-Cergy-Paris-172_coul.png\">"
   ]
  },
  {
   "cell_type": "markdown",
   "metadata": {},
   "source": [
    "# Diplôme universitaire Data Analyst (DUDA)\n",
    "\n",
    "**Ana Maria ARMENTA PEREA**\n",
    "\n",
    "Mars 2023\n",
    "\n",
    "## Préparation au Diplôme Universitaire"
   ]
  },
  {
   "cell_type": "markdown",
   "metadata": {},
   "source": [
    "### 1. Exploration d’un jeu de données"
   ]
  },
  {
   "cell_type": "code",
   "execution_count": null,
   "metadata": {},
   "outputs": [],
   "source": [
    "pip install gitpython"
   ]
  },
  {
   "cell_type": "code",
   "execution_count": 1,
   "metadata": {},
   "outputs": [],
   "source": [
    "# Importing modules\n",
    "\n",
    "import pandas as pd\n",
    "import matplotlib.pyplot as plt\n",
    "#import plotnine as p9\n",
    "import seaborn as sns\n",
    "import git"
   ]
  },
  {
   "cell_type": "code",
   "execution_count": 3,
   "metadata": {},
   "outputs": [
    {
     "data": {
      "text/plain": [
       "<git.repo.base.Repo 'C:\\\\Users\\\\anita\\\\Desktop\\\\Data_Analyst\\\\DataCamp\\\\Git_Projects\\\\.git'>"
      ]
     },
     "execution_count": 3,
     "metadata": {},
     "output_type": "execute_result"
    }
   ],
   "source": [
    "git.Repo.clone_from('https://github.com/anitarmenta/Projets.git',\n",
    "                    'C:/Users/anita/Desktop/Data_Analyst/DataCamp/Git_Projects')"
   ]
  },
  {
   "cell_type": "code",
   "execution_count": 36,
   "metadata": {},
   "outputs": [
    {
     "data": {
      "text/plain": [
       "[<git.remote.PushInfo at 0x21941ad04f0>]"
      ]
     },
     "execution_count": 36,
     "metadata": {},
     "output_type": "execute_result"
    }
   ],
   "source": [
    "repo = git.Repo('C:/Users/anita/Desktop/Data_Analyst/DataCamp/Git_Projects')\n",
    "# Hacer cambios a los archivos en el repositorio\n",
    "repo.index.add(['../Preparation_au_Diplome_Universitaire/Proyecto_0/Test_Proyecto_0.ipynb'])\n",
    "repo.index.commit(\"Mensaje de confirmación\")\n",
    "origin = repo.remote(name='origin')\n",
    "origin.push()\n"
   ]
  },
  {
   "cell_type": "code",
   "execution_count": 5,
   "metadata": {},
   "outputs": [
    {
     "name": "stderr",
     "output_type": "stream",
     "text": [
      "C:\\Users\\anita\\AppData\\Local\\Temp\\ipykernel_17292\\2923908881.py:4: DtypeWarning: Columns (11) have mixed types. Specify dtype option on import or set low_memory=False.\n"
     ]
    },
    {
     "name": "stdout",
     "output_type": "stream",
     "text": [
      "   Unnamed: 0               Auteur Identifiant auteur  \\\n",
      "0           0       Saeed Al marri                NaN   \n",
      "1           1    Andrea Ramazzotti          174423705   \n",
      "2           2  OLIVIER BODENREIDER                NaN   \n",
      "3           3       Emmanuel Porte                NaN   \n",
      "4           4     Arthur Devriendt                NaN   \n",
      "\n",
      "                                               Titre  \\\n",
      "0  Le credit documentaire et l'onopposabilite des...   \n",
      "1  Application de la PGD a la resolution de probl...   \n",
      "2  Conception d'un outil informatique d'etude des...   \n",
      "3  Socio-histoire des politiques publiques en mat...   \n",
      "4  LES TECHNOLOGIES DE L'INFORMATION ET DE LA COM...   \n",
      "\n",
      "                           Directeur de these  \\\n",
      "0                         Philippe Delebecque   \n",
      "1  Jean-Claude Grandidier,Marianne Beringhier   \n",
      "2                             Francois Kohler   \n",
      "3                               Gilles Pollet   \n",
      "4                               Gabriel Dupuy   \n",
      "\n",
      "              Directeur de these (nom prenom) Identifiant directeur  \\\n",
      "0                         Delebecque Philippe              29561248   \n",
      "1  Grandidier Jean-Claude,Beringhier Marianne           715,441,511   \n",
      "2                             Kohler Francois              57030758   \n",
      "3                               Pollet Gilles                    na   \n",
      "4                               Dupuy Gabriel                    na   \n",
      "\n",
      "                         Etablissement de soutenance  \\\n",
      "0                                            Paris 1   \n",
      "1  Chasseneuil-du-Poitou, Ecole nationale superie...   \n",
      "2                                            Nancy 1   \n",
      "3                                             Lyon 2   \n",
      "4                                            Paris 1   \n",
      "\n",
      "  Identifiant etablissement  \\\n",
      "0                  27361802   \n",
      "1                  28024400   \n",
      "2                       NaN   \n",
      "3                 02640334X   \n",
      "4                  27361802   \n",
      "\n",
      "                                          Discipline  ...    Year  \\\n",
      "0                                        Driot prive  ...     NaN   \n",
      "1  Mecanique des solides, des materiaux, des stru...  ...     NaN   \n",
      "2                                           Medecine  ...  1993.0   \n",
      "3                                  Science politique  ...     NaN   \n",
      "4                                         Geographie  ...     NaN   \n",
      "\n",
      "  Langue de la these Identifiant de la these  Accessible en ligne  \\\n",
      "0                 na                  s69480                  non   \n",
      "1                 na                  s98826                  non   \n",
      "2                 fr            1993NAN19006                  non   \n",
      "3                 na                  s88867                  non   \n",
      "4                 na                  s89663                  non   \n",
      "\n",
      "  Publication dans theses.fr Mise a jour dans theses.fr  \\\n",
      "0                   26-01-12                   26-01-12   \n",
      "1                   22-11-13                   22-11-13   \n",
      "2                   24-05-13                   17-11-12   \n",
      "3                   12-07-13                   12-01-16   \n",
      "4                   13-07-13                   12-07-13   \n",
      "\n",
      "               Discipline_prédi   Genre  \\\n",
      "0    Droit et Science Politique    male   \n",
      "1  Materiaux, Milieux et Chimie  female   \n",
      "2                      Medecine    male   \n",
      "3    Droit et Science Politique    male   \n",
      "4                           SHS    male   \n",
      "\n",
      "                                   etablissement_rec Langue_rec  \n",
      "0             Université Paris 1 - Panthéon Sorbonne        NaN  \n",
      "1  École nationale supérieure de mécanique et d'a...        NaN  \n",
      "2                             Université de Lorraine   Français  \n",
      "3                        Université Lumière - Lyon 2        NaN  \n",
      "4             Université Paris 1 - Panthéon Sorbonne        NaN  \n",
      "\n",
      "[5 rows x 23 columns]\n"
     ]
    }
   ],
   "source": [
    "# Création du DataFrame et exploration de celle-ci\n",
    "# Read datasets/PhD.dataset.csv into dataPhD\n",
    "\n",
    "dataPhD = pd.read_csv(\"datasets/PhD.dataset.csv\", encoding='utf-8', \n",
    "    parse_dates=[\"Date de soutenance\"])\n",
    "\n",
    "print(dataPhD.head())"
   ]
  },
  {
   "cell_type": "code",
   "execution_count": 6,
   "metadata": {},
   "outputs": [
    {
     "name": "stdout",
     "output_type": "stream",
     "text": [
      "<class 'pandas.core.frame.DataFrame'>\n",
      "RangeIndex: 448047 entries, 0 to 448046\n",
      "Data columns (total 23 columns):\n",
      " #   Column                                    Non-Null Count   Dtype         \n",
      "---  ------                                    --------------   -----         \n",
      " 0   Unnamed: 0                                448047 non-null  int64         \n",
      " 1   Auteur                                    448047 non-null  object        \n",
      " 2   Identifiant auteur                        317700 non-null  object        \n",
      " 3   Titre                                     448040 non-null  object        \n",
      " 4   Directeur de these                        448034 non-null  object        \n",
      " 5   Directeur de these (nom prenom)           448034 non-null  object        \n",
      " 6   Identifiant directeur                     448047 non-null  object        \n",
      " 7   Etablissement de soutenance               448046 non-null  object        \n",
      " 8   Identifiant etablissement                 430965 non-null  object        \n",
      " 9   Discipline                                448047 non-null  object        \n",
      " 10  Statut                                    448047 non-null  object        \n",
      " 11  Date de premiere inscription en doctorat  64331 non-null   object        \n",
      " 12  Date de soutenance                        390961 non-null  datetime64[ns]\n",
      " 13  Year                                      390961 non-null  float64       \n",
      " 14  Langue de la these                        448047 non-null  object        \n",
      " 15  Identifiant de la these                   448047 non-null  object        \n",
      " 16  Accessible en ligne                       448047 non-null  object        \n",
      " 17  Publication dans theses.fr                448047 non-null  object        \n",
      " 18  Mise a jour dans theses.fr                447870 non-null  object        \n",
      " 19  Discipline_prédi                          448047 non-null  object        \n",
      " 20  Genre                                     448047 non-null  object        \n",
      " 21  etablissement_rec                         444973 non-null  object        \n",
      " 22  Langue_rec                                383927 non-null  object        \n",
      "dtypes: datetime64[ns](1), float64(1), int64(1), object(20)\n",
      "memory usage: 78.6+ MB\n",
      "None\n"
     ]
    }
   ],
   "source": [
    "# Voir le nom de chacune des colonnes, le type de données et s'il manque des données\n",
    "print(dataPhD.info())"
   ]
  },
  {
   "cell_type": "code",
   "execution_count": 7,
   "metadata": {},
   "outputs": [
    {
     "data": {
      "text/plain": [
       "array(['na', 'fr', 'en', 'ro', 'es', 'de', 'FR', 'zh', 'bs', 'it', 'co',\n",
       "       'fren', 'enfr', 'enzh', 'pt', 'frensl', 'fres', 'zhen', 'esen',\n",
       "       'itfr', 'frel', 'cs', 'frpten', 'hu', 'enfrde', 'esenfr', 'frpl',\n",
       "       'elfr', 'frhu', 'frar', 'itfren', 'frit', 'frzh', 'enfrzh', 'frvi',\n",
       "       'frenes', 'ru', 'defr', 'pl', 'bg', 'frkm', 'kkenfr', 'frcs',\n",
       "       'ptfren', 'el', 'enfreu', 'pten', 'frpt', 'esfr', 'ptfr', 'rufr',\n",
       "       'br', 'cafr', 'sr', 'enru', 'ensl', 'frde', 'frja', 'frla', 'ar',\n",
       "       'ca', 'fraf', 'eu', 'enesfr', 'freu', 'rofr', 'frgrc', 'enpt',\n",
       "       'encsfr', 'he', 'enptfr', 'enit', 'fresen', 'enpl', 'sv', 'eufr',\n",
       "       'enfrpt', 'frbr', 'ukfren', 'frruen', 'arfr', 'hyfrru', 'csfrsk',\n",
       "       'frhe', 'frru', 'brfr', 'akfr', 'zhfr', 'frms', 'enfrpl', 'frmn',\n",
       "       'enfrit', 'envi', 'frro', 'frfy', 'frsl', 'enfres', 'frqu', 'as',\n",
       "       'frln', 'frenpt', 'abfr', 'uk', 'roen', 'plen', 'frenzh',\n",
       "       'frendees', 'enfrcs', 'itzh', 'cofr', 'frtch', 'eufres', 'ja',\n",
       "       'enbo', 'frsa', 'itfrhe', 'froc', 'frkmsa', 'hyfr', 'zhfrit', 'nl',\n",
       "       'nlen', 'csfr', 'enesfrca', 'enar', 'amfr', 'frtr', 'frsakm',\n",
       "       'enarfr', 'itlafr', 'frff', 'itfrla', 'sq', 'entr', 'deenfr',\n",
       "       'itla', 'enro', 'plfr', 'endefr', 'ptenfr', 'enes', 'frka', 'fafr',\n",
       "       'akes', 'frmg', 'elenfr', 'csenfr', 'sqfr', 'zhenfr', 'ee',\n",
       "       'bgenfr', 'frfr', 'enfrsk', 'encs', 'enfrro', 'fris', 'bgfr',\n",
       "       'frgl', 'frko', 'enhu', 'deenfrit', 'azfr', 'fritla', 'enth',\n",
       "       'frth', 'arenfrit', 'frfa', 'frty', 'eo', 'frid', 'frsv', 'aefr',\n",
       "       'csfrla', 'enfrhu', 'zhfrug', 'myfr', 'enfrja', 'deen', 'amarfr',\n",
       "       'aafr', 'frsi', 'enla', 'frlaptes', 'ares', 'arenfr', 'frnv',\n",
       "       'enitfr', 'frplen', 'ad', 'frund', 'enfrvi', 'ab', 'frhi',\n",
       "       'fritlaoc', 'am', 'enfrru', 'frukr', 'hy', 'enzhfr', 'enfrar',\n",
       "       'et', 'id', 'cafres', 'frruuk', 'fi', 'nlenfr'], dtype=object)"
      ]
     },
     "execution_count": 7,
     "metadata": {},
     "output_type": "execute_result"
    }
   ],
   "source": [
    "# Trouver les valeurs uniques de la colonne Langue\n",
    "\n",
    "dataPhD['Langue de la these'].unique()"
   ]
  },
  {
   "cell_type": "code",
   "execution_count": 8,
   "metadata": {},
   "outputs": [
    {
     "data": {
      "text/plain": [
       "fr          334443\n",
       "na           64120\n",
       "en           30948\n",
       "enfr         10579\n",
       "fren          4793\n",
       "             ...  \n",
       "frtch            1\n",
       "cofr             1\n",
       "itzh             1\n",
       "frendees         1\n",
       "nlenfr           1\n",
       "Name: Langue de la these, Length: 206, dtype: int64"
      ]
     },
     "execution_count": 8,
     "metadata": {},
     "output_type": "execute_result"
    }
   ],
   "source": [
    "dataPhD['Langue de la these'].value_counts()"
   ]
  },
  {
   "cell_type": "code",
   "execution_count": 9,
   "metadata": {},
   "outputs": [],
   "source": [
    "# How to Recode a Categorical Variable in a Python Dataframe\n",
    "# https://www.sharpsightlabs.com/blog/recode-categorical-variable-python/\n",
    "# https://www.youtube.com/watch?v=yWu5wbaMY3c\n"
   ]
  },
  {
   "cell_type": "markdown",
   "metadata": {},
   "source": [
    "### 1.1 Choix de la langue d’écriture\n",
    "\n",
    "**Objectifs : recodage de variables et conception des premiers graphiques**\n",
    "\n",
    "<p> Une variable est dédiée à la langue d’écriture. Vous recoderez (en anglais : <em>to recode</em>) l’ensemble des différents niveaux en quatre niveaux (Français, Anglais, Bilingue, uniquement pour Anglais-Français ou Français-Anglais, soit enfr et fren, et Autre). Appelez cette nouvelle variable <em>language.rec</em>. Traitez la date de la soutenance comme une date, et montrez à travers un plot matplotlib ou ggplot2 (ou pourquoi pas, seaborn), comment le choix de la langue d’écriture a évolué au cours des deux dernières décennies.</p>"
   ]
  },
  {
   "cell_type": "code",
   "execution_count": 10,
   "metadata": {},
   "outputs": [],
   "source": [
    "# Créer des listes avec les quatre niveaux\n",
    "\n",
    "fra = ['fr', 'FR']\n",
    "ang = 'en'\n",
    "bil = ['enfr', 'fren']\n",
    "autres = ['na', 'ro', 'es', 'de', 'zh', 'bs', 'it', 'co',\n",
    "       'enzh', 'pt', 'frensl', 'fres', 'zhen', 'esen',\n",
    "       'itfr', 'frel', 'cs', 'frpten', 'hu', 'enfrde', 'esenfr', 'frpl',\n",
    "       'elfr', 'frhu', 'frar', 'itfren', 'frit', 'frzh', 'enfrzh', 'frvi',\n",
    "       'frenes', 'ru', 'defr', 'pl', 'bg', 'frkm', 'kkenfr', 'frcs',\n",
    "       'ptfren', 'el', 'enfreu', 'pten', 'frpt', 'esfr', 'ptfr', 'rufr',\n",
    "       'br', 'cafr', 'sr', 'enru', 'ensl', 'frde', 'frja', 'frla', 'ar',\n",
    "       'ca', 'fraf', 'eu', 'enesfr', 'freu', 'rofr', 'frgrc', 'enpt',\n",
    "       'encsfr', 'he', 'enptfr', 'enit', 'fresen', 'enpl', 'sv', 'eufr',\n",
    "       'enfrpt', 'frbr', 'ukfren', 'frruen', 'arfr', 'hyfrru', 'csfrsk',\n",
    "       'frhe', 'frru', 'brfr', 'akfr', 'zhfr', 'frms', 'enfrpl', 'frmn',\n",
    "       'enfrit', 'envi', 'frro', 'frfy', 'frsl', 'enfres', 'frqu', 'as',\n",
    "       'frln', 'frenpt', 'abfr', 'uk', 'roen', 'plen', 'frenzh',\n",
    "       'frendees', 'enfrcs', 'itzh', 'cofr', 'frtch', 'eufres', 'ja',\n",
    "       'enbo', 'frsa', 'itfrhe', 'froc', 'frkmsa', 'hyfr', 'zhfrit', 'nl',\n",
    "       'nlen', 'csfr', 'enesfrca', 'enar', 'amfr', 'frtr', 'frsakm',\n",
    "       'enarfr', 'itlafr', 'frff', 'itfrla', 'sq', 'entr', 'deenfr',\n",
    "       'itla', 'enro', 'plfr', 'endefr', 'ptenfr', 'enes', 'frka', 'fafr',\n",
    "       'akes', 'frmg', 'elenfr', 'csenfr', 'sqfr', 'zhenfr', 'ee',\n",
    "       'bgenfr', 'frfr', 'enfrsk', 'encs', 'enfrro', 'fris', 'bgfr',\n",
    "       'frgl', 'frko', 'enhu', 'deenfrit', 'azfr', 'fritla', 'enth',\n",
    "       'frth', 'arenfrit', 'frfa', 'frty', 'eo', 'frid', 'frsv', 'aefr',\n",
    "       'csfrla', 'enfrhu', 'zhfrug', 'myfr', 'enfrja', 'deen', 'amarfr',\n",
    "       'aafr', 'frsi', 'enla', 'frlaptes', 'ares', 'arenfr', 'frnv',\n",
    "       'enitfr', 'frplen', 'ad', 'frund', 'enfrvi', 'ab', 'frhi',\n",
    "       'fritlaoc', 'am', 'enfrru', 'frukr', 'hy', 'enzhfr', 'enfrar',\n",
    "       'et', 'id', 'cafres', 'frruuk', 'fi', 'nlenfr']\n",
    "\n",
    "f = 'Français'\n",
    "a = 'Anglais'\n",
    "b = 'Bilingue'\n",
    "au = 'Autre'\n"
   ]
  },
  {
   "cell_type": "code",
   "execution_count": 11,
   "metadata": {},
   "outputs": [],
   "source": [
    "# REvisar\n",
    "dataPhD['Langue de la these'].replace(fra,f, inplace = True)\n",
    "dataPhD['Langue de la these'].replace(ang, a, inplace = True)\n",
    "dataPhD['Langue de la these'].replace(bil, b, inplace = True)\n",
    "dataPhD['Langue de la these'].replace(autres,au, inplace = True)"
   ]
  },
  {
   "cell_type": "code",
   "execution_count": 12,
   "metadata": {},
   "outputs": [
    {
     "name": "stdout",
     "output_type": "stream",
     "text": [
      "<class 'pandas.core.frame.DataFrame'>\n",
      "RangeIndex: 448047 entries, 0 to 448046\n",
      "Data columns (total 23 columns):\n",
      " #   Column                                    Non-Null Count   Dtype         \n",
      "---  ------                                    --------------   -----         \n",
      " 0   Unnamed: 0                                448047 non-null  int64         \n",
      " 1   Auteur                                    448047 non-null  object        \n",
      " 2   Identifiant auteur                        317700 non-null  object        \n",
      " 3   Titre                                     448040 non-null  object        \n",
      " 4   Directeur de these                        448034 non-null  object        \n",
      " 5   Directeur de these (nom prenom)           448034 non-null  object        \n",
      " 6   Identifiant directeur                     448047 non-null  object        \n",
      " 7   Etablissement de soutenance               448046 non-null  object        \n",
      " 8   Identifiant etablissement                 430965 non-null  object        \n",
      " 9   Discipline                                448047 non-null  object        \n",
      " 10  Statut                                    448047 non-null  object        \n",
      " 11  Date de premiere inscription en doctorat  64331 non-null   object        \n",
      " 12  Date de soutenance                        390961 non-null  datetime64[ns]\n",
      " 13  Year                                      390961 non-null  float64       \n",
      " 14  Langue de la these                        448047 non-null  object        \n",
      " 15  Identifiant de la these                   448047 non-null  object        \n",
      " 16  Accessible en ligne                       448047 non-null  object        \n",
      " 17  Publication dans theses.fr                448047 non-null  object        \n",
      " 18  Mise a jour dans theses.fr                447870 non-null  object        \n",
      " 19  Discipline_prédi                          448047 non-null  object        \n",
      " 20  Genre                                     448047 non-null  object        \n",
      " 21  etablissement_rec                         444973 non-null  object        \n",
      " 22  Langue_rec                                383927 non-null  object        \n",
      "dtypes: datetime64[ns](1), float64(1), int64(1), object(20)\n",
      "memory usage: 78.6+ MB\n",
      "None\n"
     ]
    }
   ],
   "source": [
    "print(dataPhD.info())"
   ]
  },
  {
   "cell_type": "code",
   "execution_count": 13,
   "metadata": {},
   "outputs": [
    {
     "data": {
      "text/plain": [
       "Français    334445\n",
       "Autre        67282\n",
       "Anglais      30948\n",
       "Bilingue     15372\n",
       "Name: Langue de la these, dtype: int64"
      ]
     },
     "execution_count": 13,
     "metadata": {},
     "output_type": "execute_result"
    }
   ],
   "source": [
    "dataPhD['Langue de la these'].value_counts()"
   ]
  },
  {
   "cell_type": "code",
   "execution_count": 14,
   "metadata": {},
   "outputs": [
    {
     "data": {
      "text/plain": [
       "0       NaN\n",
       "1       NaN\n",
       "2    1993.0\n",
       "3       NaN\n",
       "4       NaN\n",
       "Name: Year, dtype: float64"
      ]
     },
     "execution_count": 14,
     "metadata": {},
     "output_type": "execute_result"
    }
   ],
   "source": [
    "dataPhD['Year'].head()"
   ]
  },
  {
   "cell_type": "code",
   "execution_count": 15,
   "metadata": {},
   "outputs": [],
   "source": [
    "dataPhD.rename(columns = {'Langue de la these':'Language_rec'}, inplace = True)"
   ]
  },
  {
   "cell_type": "code",
   "execution_count": 16,
   "metadata": {},
   "outputs": [
    {
     "name": "stdout",
     "output_type": "stream",
     "text": [
      "<class 'pandas.core.frame.DataFrame'>\n",
      "RangeIndex: 448047 entries, 0 to 448046\n",
      "Data columns (total 23 columns):\n",
      " #   Column                                    Non-Null Count   Dtype         \n",
      "---  ------                                    --------------   -----         \n",
      " 0   Unnamed: 0                                448047 non-null  int64         \n",
      " 1   Auteur                                    448047 non-null  object        \n",
      " 2   Identifiant auteur                        317700 non-null  object        \n",
      " 3   Titre                                     448040 non-null  object        \n",
      " 4   Directeur de these                        448034 non-null  object        \n",
      " 5   Directeur de these (nom prenom)           448034 non-null  object        \n",
      " 6   Identifiant directeur                     448047 non-null  object        \n",
      " 7   Etablissement de soutenance               448046 non-null  object        \n",
      " 8   Identifiant etablissement                 430965 non-null  object        \n",
      " 9   Discipline                                448047 non-null  object        \n",
      " 10  Statut                                    448047 non-null  object        \n",
      " 11  Date de premiere inscription en doctorat  64331 non-null   object        \n",
      " 12  Date de soutenance                        390961 non-null  datetime64[ns]\n",
      " 13  Year                                      390961 non-null  float64       \n",
      " 14  Language_rec                              448047 non-null  object        \n",
      " 15  Identifiant de la these                   448047 non-null  object        \n",
      " 16  Accessible en ligne                       448047 non-null  object        \n",
      " 17  Publication dans theses.fr                448047 non-null  object        \n",
      " 18  Mise a jour dans theses.fr                447870 non-null  object        \n",
      " 19  Discipline_prédi                          448047 non-null  object        \n",
      " 20  Genre                                     448047 non-null  object        \n",
      " 21  etablissement_rec                         444973 non-null  object        \n",
      " 22  Langue_rec                                383927 non-null  object        \n",
      "dtypes: datetime64[ns](1), float64(1), int64(1), object(20)\n",
      "memory usage: 78.6+ MB\n",
      "None\n"
     ]
    }
   ],
   "source": [
    "print(dataPhD.info())"
   ]
  },
  {
   "cell_type": "code",
   "execution_count": 17,
   "metadata": {},
   "outputs": [],
   "source": [
    "# Extract Clinic 1 data into clinic_1 and Clinic 2 data into clinic_2\n",
    "dataPhD_fr = dataPhD[dataPhD['Language_rec'] == 'Français']\n",
    "dataPhD_au = dataPhD[dataPhD['Language_rec'] == 'Autre']\n",
    "dataPhD_an = dataPhD[dataPhD['Language_rec'] == 'Anglais']\n",
    "dataPhD_bi = dataPhD[dataPhD['Language_rec'] == 'Bilingue']"
   ]
  },
  {
   "cell_type": "code",
   "execution_count": 18,
   "metadata": {},
   "outputs": [
    {
     "data": {
      "text/plain": [
       "<AxesSubplot:xlabel='Language_rec', ylabel='count'>"
      ]
     },
     "execution_count": 18,
     "metadata": {},
     "output_type": "execute_result"
    },
    {
     "data": {
      "image/png": "[encoded data removed]",
      "text/plain": [
       "<Figure size 640x480 with 1 Axes>"
      ]
     },
     "metadata": {},
     "output_type": "display_data"
    }
   ],
   "source": [
    "# This makes plots appear in the notebook\n",
    "%matplotlib inline\n",
    "\n",
    "# \n",
    "sns.countplot(x = 'Language_rec', data = dataPhD, hue = 'Language_rec')\n",
    "\n"
   ]
  },
  {
   "cell_type": "code",
   "execution_count": 19,
   "metadata": {},
   "outputs": [],
   "source": [
    "test =dataPhD.groupby(['Year', 'Language_rec']).size().reset_index(name='cantidad')"
   ]
  },
  {
   "cell_type": "code",
   "execution_count": 20,
   "metadata": {},
   "outputs": [
    {
     "data": {
      "text/plain": [
       "pandas.core.frame.DataFrame"
      ]
     },
     "execution_count": 20,
     "metadata": {},
     "output_type": "execute_result"
    }
   ],
   "source": [
    "type(test)"
   ]
  },
  {
   "cell_type": "code",
   "execution_count": 21,
   "metadata": {},
   "outputs": [
    {
     "name": "stdout",
     "output_type": "stream",
     "text": [
      "       Year Language_rec  cantidad\n",
      "0    1971.0     Français         1\n",
      "1    1972.0     Français         1\n",
      "2    1973.0     Français         1\n",
      "3    1976.0     Français         1\n",
      "4    1979.0     Français         1\n",
      "..      ...          ...       ...\n",
      "142  2018.0     Bilingue       741\n",
      "143  2018.0     Français      7807\n",
      "144  2019.0      Anglais      2818\n",
      "145  2019.0        Autre      1755\n",
      "146  2019.0     Bilingue       530\n",
      "\n",
      "[147 rows x 3 columns]\n"
     ]
    }
   ],
   "source": [
    "print(test.head(-5))"
   ]
  },
  {
   "cell_type": "code",
   "execution_count": 22,
   "metadata": {},
   "outputs": [
    {
     "name": "stdout",
     "output_type": "stream",
     "text": [
      "<class 'pandas.core.frame.DataFrame'>\n",
      "RangeIndex: 152 entries, 0 to 151\n",
      "Data columns (total 3 columns):\n",
      " #   Column        Non-Null Count  Dtype  \n",
      "---  ------        --------------  -----  \n",
      " 0   Year          152 non-null    float64\n",
      " 1   Language_rec  152 non-null    object \n",
      " 2   cantidad      152 non-null    int64  \n",
      "dtypes: float64(1), int64(1), object(1)\n",
      "memory usage: 3.7+ KB\n",
      "None\n"
     ]
    }
   ],
   "source": [
    "print(test.info())"
   ]
  },
  {
   "cell_type": "code",
   "execution_count": 23,
   "metadata": {},
   "outputs": [
    {
     "data": {
      "text/plain": [
       "<seaborn.axisgrid.FacetGrid at 0x21928aaedc0>"
      ]
     },
     "execution_count": 23,
     "metadata": {},
     "output_type": "execute_result"
    },
    {
     "data": {
      "image/png": "[encoded data removed]",
      "text/plain": [
       "<Figure size 608.486x500 with 1 Axes>"
      ]
     },
     "metadata": {},
     "output_type": "display_data"
    }
   ],
   "source": [
    "sns.relplot(x='Year', y = 'cantidad', data = test, kind = 'line', hue = 'Language_rec')"
   ]
  },
  {
   "cell_type": "code",
   "execution_count": 24,
   "metadata": {},
   "outputs": [
    {
     "data": {
      "text/plain": [
       "<AxesSubplot:xlabel='Year'>"
      ]
     },
     "execution_count": 24,
     "metadata": {},
     "output_type": "execute_result"
    },
    {
     "data": {
      "image/png": "[encoded data removed]",
      "text/plain": [
       "<Figure size 640x480 with 1 Axes>"
      ]
     },
     "metadata": {},
     "output_type": "display_data"
    }
   ],
   "source": [
    "dataPhD.groupby(['Year', 'Language_rec']).size().unstack().plot.line()"
   ]
  },
  {
   "cell_type": "code",
   "execution_count": 25,
   "metadata": {},
   "outputs": [],
   "source": [
    "#df.groupby(['Language_rec', 'Year']) agrupa el DataFrame por las columnas Language_rec y Year, creando un objeto GroupBy.\n",
    "#.size() calcula el tamaño de cada grupo, es decir, el número de filas que tienen el mismo idioma y año.\n",
    "#.unstack() convierte el índice jerárquico del resultado anterior en un índice simple y crea una nueva columna para\n",
    "#cada nivel del índice. En este caso, crea una columna para cada idioma.\n",
    "#.plot.line() hace un gráfico de línea con las columnas del resultado anterior como series de datos1 . En este caso,\n",
    "#hace una serie de datos para cada idioma."
   ]
  },
  {
   "cell_type": "markdown",
   "metadata": {},
   "source": [
    "### 1.2 Une anomalie\n",
    "**Objectifs : filtres - comptage**\n",
    "\n",
    "<p> Pour une partie significative des candidats au doctorat, la date de soutenance et de début de thèse sont les mêmes. Comptez le nombre d’individus dans cette situation, en utilisant la notion de filtre (pas de boucle for acceptée). Utilisez un count.</p>"
   ]
  },
  {
   "cell_type": "code",
   "execution_count": 26,
   "metadata": {},
   "outputs": [
    {
     "name": "stdout",
     "output_type": "stream",
     "text": [
      "0          NaT\n",
      "1          NaT\n",
      "2   1993-01-01\n",
      "3          NaT\n",
      "4          NaT\n",
      "Name: Date de soutenance, dtype: datetime64[ns]\n"
     ]
    }
   ],
   "source": [
    "print(dataPhD['Date de soutenance'].head())"
   ]
  },
  {
   "cell_type": "code",
   "execution_count": 27,
   "metadata": {},
   "outputs": [
    {
     "name": "stdout",
     "output_type": "stream",
     "text": [
      "0    30-09-11\n",
      "1    01-10-12\n",
      "2         NaN\n",
      "3    01-06-11\n",
      "4    07-12-09\n",
      "Name: Date de premiere inscription en doctorat, dtype: object\n"
     ]
    }
   ],
   "source": [
    "print(dataPhD['Date de premiere inscription en doctorat'].head())"
   ]
  },
  {
   "cell_type": "code",
   "execution_count": 28,
   "metadata": {},
   "outputs": [
    {
     "name": "stdout",
     "output_type": "stream",
     "text": [
      "Les doctorants dont les dates de soutenance et de début sont les mêmes :  11\n"
     ]
    }
   ],
   "source": [
    "candidats_doctorat = dataPhD['Date de soutenance'] == dataPhD['Date de premiere inscription en doctorat']\n",
    "print(\"Les doctorants dont les dates de soutenance et de début sont les mêmes : \",\n",
    "      candidats_doctorat[candidats_doctorat==True].count().sum())"
   ]
  },
  {
   "cell_type": "markdown",
   "metadata": {},
   "source": [
    "### 1.3 Identifiez les ”hyperdocteurs”\n",
    "\n",
    "**Objectifs : group by, count**\n",
    "\n",
    "<p>Identifiez les personnes qui ont soutenu plus d’un doctorat. Est-ce un phénomène commun ? Identifiez les noms des dix personnes les plus prolifiques parmi les hyperdocteurs (en termes de nombres de doctorats soutenus).</p>\n"
   ]
  },
  {
   "cell_type": "code",
   "execution_count": 29,
   "metadata": {},
   "outputs": [
    {
     "name": "stdout",
     "output_type": "stream",
     "text": [
      "Auteur                                                           Date de soutenance\n",
      "Fanny Le Morellec                                                2014-12-17            8\n",
      "Rodrigo Andrade Botelho de Almeida (Andrade Botelho de Almeida)  2009-06-11            8\n",
      "Gaiyun Liu                                                       2014-12-27            8\n",
      "Guillaume Tergny                                                 2011-05-31            8\n",
      "Amina Bouderba                                                   2012-06-30            8\n",
      "Luigi Nardi                                                      2011-08-03            8\n",
      "Yohann Nyirumulinga                                              2011-04-26            8\n",
      "Jamel Azibi                                                      2014-09-23            8\n",
      "Amandine Savall                                                  2014-10-12            8\n",
      "Suzie Telep                                                      2019-11-10            4\n",
      "Name: Date de soutenance, dtype: int64\n"
     ]
    }
   ],
   "source": [
    "hyperdocteurs = pd.DataFrame()\n",
    "hyperdocteurs = dataPhD.groupby(['Auteur', 'Date de soutenance'])['Date de soutenance'].count()\n",
    "hyperdocteurs[hyperdocteurs>1]\n",
    "#hyperdocteurs.sort_values(ascending = False)\n",
    "print(hyperdocteurs.sort_values(ascending = False).head(10))\n",
    "#print(hyperdocteurs)"
   ]
  },
  {
   "cell_type": "code",
   "execution_count": null,
   "metadata": {},
   "outputs": [],
   "source": []
  },
  {
   "cell_type": "markdown",
   "metadata": {},
   "source": [
    "### 1.4 Quelles sont les principales universités pourvoyeuses de doctorats en France?\n",
    "\n",
    "**Objectifs : Join, group-by**\n",
    "\n",
    "<p>Comptez le nombre de thèses par établissement et par an (deux variables à mettre dans le groupby) et produisez une table que vous exporterez au format csv (nommée univyear.csv). Nous vous fournissons un nouveau jeu de données nomm´e ”opendata”. Vous utiliserez les colonnes identiques pour réaliser un ”join” (utilisez le nom de l’´etablissement). Réalisez un scatterplot pour représenter le lien entre le nombre de thèse soutenues en 2020 et une variable quantitative pertinente de opendata (comme le nombre d’étudiants inscrits dans une année donnée).</p>"
   ]
  },
  {
   "cell_type": "code",
   "execution_count": 30,
   "metadata": {
    "scrolled": false
   },
   "outputs": [
    {
     "name": "stdout",
     "output_type": "stream",
     "text": [
      "                                                Unnamed: 0  Auteur  \\\n",
      "Etablissement de soutenance Date de soutenance                       \n",
      "AgroParisTech               2007-01-01                   1       1   \n",
      "                            2008-01-01                   1       1   \n",
      "                            2009-01-01                  12      12   \n",
      "                            2010-01-01                  47      47   \n",
      "                            2011-01-01                   4       4   \n",
      "...                                                    ...     ...   \n",
      "universite Paris-Saclay     2020-12-05                   1       1   \n",
      "                            2020-12-06                   1       1   \n",
      "valenciennes                1987-01-01                   1       1   \n",
      "                            1992-01-01                   1       1   \n",
      "                            1995-01-01                   1       1   \n",
      "\n",
      "                                                Identifiant auteur  Titre  \\\n",
      "Etablissement de soutenance Date de soutenance                              \n",
      "AgroParisTech               2007-01-01                           1      1   \n",
      "                            2008-01-01                           1      1   \n",
      "                            2009-01-01                          12     12   \n",
      "                            2010-01-01                          46     47   \n",
      "                            2011-01-01                           4      4   \n",
      "...                                                            ...    ...   \n",
      "universite Paris-Saclay     2020-12-05                           1      1   \n",
      "                            2020-12-06                           0      1   \n",
      "valenciennes                1987-01-01                           1      1   \n",
      "                            1992-01-01                           1      1   \n",
      "                            1995-01-01                           1      1   \n",
      "\n",
      "                                                Directeur de these  \\\n",
      "Etablissement de soutenance Date de soutenance                       \n",
      "AgroParisTech               2007-01-01                           1   \n",
      "                            2008-01-01                           1   \n",
      "                            2009-01-01                          12   \n",
      "                            2010-01-01                          47   \n",
      "                            2011-01-01                           4   \n",
      "...                                                            ...   \n",
      "universite Paris-Saclay     2020-12-05                           1   \n",
      "                            2020-12-06                           1   \n",
      "valenciennes                1987-01-01                           1   \n",
      "                            1992-01-01                           1   \n",
      "                            1995-01-01                           1   \n",
      "\n",
      "                                                Directeur de these (nom prenom)  \\\n",
      "Etablissement de soutenance Date de soutenance                                    \n",
      "AgroParisTech               2007-01-01                                        1   \n",
      "                            2008-01-01                                        1   \n",
      "                            2009-01-01                                       12   \n",
      "                            2010-01-01                                       47   \n",
      "                            2011-01-01                                        4   \n",
      "...                                                                         ...   \n",
      "universite Paris-Saclay     2020-12-05                                        1   \n",
      "                            2020-12-06                                        1   \n",
      "valenciennes                1987-01-01                                        1   \n",
      "                            1992-01-01                                        1   \n",
      "                            1995-01-01                                        1   \n",
      "\n",
      "                                                Identifiant directeur  \\\n",
      "Etablissement de soutenance Date de soutenance                          \n",
      "AgroParisTech               2007-01-01                              1   \n",
      "                            2008-01-01                              1   \n",
      "                            2009-01-01                             12   \n",
      "                            2010-01-01                             47   \n",
      "                            2011-01-01                              4   \n",
      "...                                                               ...   \n",
      "universite Paris-Saclay     2020-12-05                              1   \n",
      "                            2020-12-06                              1   \n",
      "valenciennes                1987-01-01                              1   \n",
      "                            1992-01-01                              1   \n",
      "                            1995-01-01                              1   \n",
      "\n",
      "                                                Identifiant etablissement  \\\n",
      "Etablissement de soutenance Date de soutenance                              \n",
      "AgroParisTech               2007-01-01                                  1   \n",
      "                            2008-01-01                                  1   \n",
      "                            2009-01-01                                 12   \n",
      "                            2010-01-01                                 47   \n",
      "                            2011-01-01                                  4   \n",
      "...                                                                   ...   \n",
      "universite Paris-Saclay     2020-12-05                                  1   \n",
      "                            2020-12-06                                  1   \n",
      "valenciennes                1987-01-01                                  1   \n",
      "                            1992-01-01                                  1   \n",
      "                            1995-01-01                                  1   \n",
      "\n",
      "                                                Discipline  Statut  ...  Year  \\\n",
      "Etablissement de soutenance Date de soutenance                      ...         \n",
      "AgroParisTech               2007-01-01                   1       1  ...     1   \n",
      "                            2008-01-01                   1       1  ...     1   \n",
      "                            2009-01-01                  12      12  ...    12   \n",
      "                            2010-01-01                  47      47  ...    47   \n",
      "                            2011-01-01                   4       4  ...     4   \n",
      "...                                                    ...     ...  ...   ...   \n",
      "universite Paris-Saclay     2020-12-05                   1       1  ...     1   \n",
      "                            2020-12-06                   1       1  ...     1   \n",
      "valenciennes                1987-01-01                   1       1  ...     1   \n",
      "                            1992-01-01                   1       1  ...     1   \n",
      "                            1995-01-01                   1       1  ...     1   \n",
      "\n",
      "                                                Language_rec  \\\n",
      "Etablissement de soutenance Date de soutenance                 \n",
      "AgroParisTech               2007-01-01                     1   \n",
      "                            2008-01-01                     1   \n",
      "                            2009-01-01                    12   \n",
      "                            2010-01-01                    47   \n",
      "                            2011-01-01                     4   \n",
      "...                                                      ...   \n",
      "universite Paris-Saclay     2020-12-05                     1   \n",
      "                            2020-12-06                     1   \n",
      "valenciennes                1987-01-01                     1   \n",
      "                            1992-01-01                     1   \n",
      "                            1995-01-01                     1   \n",
      "\n",
      "                                                Identifiant de la these  \\\n",
      "Etablissement de soutenance Date de soutenance                            \n",
      "AgroParisTech               2007-01-01                                1   \n",
      "                            2008-01-01                                1   \n",
      "                            2009-01-01                               12   \n",
      "                            2010-01-01                               47   \n",
      "                            2011-01-01                                4   \n",
      "...                                                                 ...   \n",
      "universite Paris-Saclay     2020-12-05                                1   \n",
      "                            2020-12-06                                1   \n",
      "valenciennes                1987-01-01                                1   \n",
      "                            1992-01-01                                1   \n",
      "                            1995-01-01                                1   \n",
      "\n",
      "                                                Accessible en ligne  \\\n",
      "Etablissement de soutenance Date de soutenance                        \n",
      "AgroParisTech               2007-01-01                            1   \n",
      "                            2008-01-01                            1   \n",
      "                            2009-01-01                           12   \n",
      "                            2010-01-01                           47   \n",
      "                            2011-01-01                            4   \n",
      "...                                                             ...   \n",
      "universite Paris-Saclay     2020-12-05                            1   \n",
      "                            2020-12-06                            1   \n",
      "valenciennes                1987-01-01                            1   \n",
      "                            1992-01-01                            1   \n",
      "                            1995-01-01                            1   \n",
      "\n",
      "                                                Publication dans theses.fr  \\\n",
      "Etablissement de soutenance Date de soutenance                               \n",
      "AgroParisTech               2007-01-01                                   1   \n",
      "                            2008-01-01                                   1   \n",
      "                            2009-01-01                                  12   \n",
      "                            2010-01-01                                  47   \n",
      "                            2011-01-01                                   4   \n",
      "...                                                                    ...   \n",
      "universite Paris-Saclay     2020-12-05                                   1   \n",
      "                            2020-12-06                                   1   \n",
      "valenciennes                1987-01-01                                   1   \n",
      "                            1992-01-01                                   1   \n",
      "                            1995-01-01                                   1   \n",
      "\n",
      "                                                Mise a jour dans theses.fr  \\\n",
      "Etablissement de soutenance Date de soutenance                               \n",
      "AgroParisTech               2007-01-01                                   1   \n",
      "                            2008-01-01                                   1   \n",
      "                            2009-01-01                                  12   \n",
      "                            2010-01-01                                  47   \n",
      "                            2011-01-01                                   4   \n",
      "...                                                                    ...   \n",
      "universite Paris-Saclay     2020-12-05                                   1   \n",
      "                            2020-12-06                                   1   \n",
      "valenciennes                1987-01-01                                   1   \n",
      "                            1992-01-01                                   1   \n",
      "                            1995-01-01                                   1   \n",
      "\n",
      "                                                Discipline_prédi  Genre  \\\n",
      "Etablissement de soutenance Date de soutenance                            \n",
      "AgroParisTech               2007-01-01                         1      1   \n",
      "                            2008-01-01                         1      1   \n",
      "                            2009-01-01                        12     12   \n",
      "                            2010-01-01                        47     47   \n",
      "                            2011-01-01                         4      4   \n",
      "...                                                          ...    ...   \n",
      "universite Paris-Saclay     2020-12-05                         1      1   \n",
      "                            2020-12-06                         1      1   \n",
      "valenciennes                1987-01-01                         1      1   \n",
      "                            1992-01-01                         1      1   \n",
      "                            1995-01-01                         1      1   \n",
      "\n",
      "                                                etablissement_rec  Langue_rec  \n",
      "Etablissement de soutenance Date de soutenance                                 \n",
      "AgroParisTech               2007-01-01                          1           1  \n",
      "                            2008-01-01                          1           1  \n",
      "                            2009-01-01                         12          12  \n",
      "                            2010-01-01                         47          47  \n",
      "                            2011-01-01                          4           4  \n",
      "...                                                           ...         ...  \n",
      "universite Paris-Saclay     2020-12-05                          1           1  \n",
      "                            2020-12-06                          1           1  \n",
      "valenciennes                1987-01-01                          1           1  \n",
      "                            1992-01-01                          1           1  \n",
      "                            1995-01-01                          1           1  \n",
      "\n",
      "[59518 rows x 21 columns]\n"
     ]
    }
   ],
   "source": [
    "universites = dataPhD.groupby(['Etablissement de soutenance', 'Date de soutenance']).count()\n",
    "print(universites)"
   ]
  },
  {
   "cell_type": "code",
   "execution_count": null,
   "metadata": {
    "scrolled": true
   },
   "outputs": [],
   "source": [
    "repo = git.Repo('C:/Users/anita/Desktop/Data_Analyst/DataCamp/Git_Projects')\n",
    "# Hacer cambios a los archivos en el repositorio\n",
    "repo.index.add(['../Preparation_au_Diplome_Universitaire/Proyecto_0/Projet_0.Ana_ARMENTA.ipynb'])\n",
    "repo.index.commit(\"Mensaje de confirmación\")\n",
    "origin = repo.remote(name='origin')\n",
    "origin.push()\n"
   ]
  },
  {
   "cell_type": "markdown",
   "metadata": {},
   "source": [
    "Crea un archivo de Python en la carpeta raíz de tu proyecto y nómbralo push_to_github.py.\n",
    "Copia y pega el código necesario para agregar, confirmar y enviar cambios a GitHub en este archivo. Aquí está el código de ejemplo que puedes utilizar como punto de partida:"
   ]
  },
  {
   "cell_type": "code",
   "execution_count": null,
   "metadata": {},
   "outputs": [],
   "source": [
    "import git\n",
    "\n",
    "# Inicializa el repositorio de Git\n",
    "repo = git.Repo('C:/Users/anita/Desktop/Data_Analyst/DataCamp/Git_Projects')\n",
    "\n",
    "# Añade los archivos que deseas enviar a GitHub\n",
    "repo.index.add(['../Preparation_au_Diplome_Universitaire/Proyecto_0/Projet_0.Ana_ARMENTA.ipynb'])#, 'archivo2.py'])\n",
    "\n",
    "# Confirma los cambios con un mensaje de confirmación\n",
    "repo.index.commit(\"Mensaje de confirmación\")\n",
    "\n",
    "# Obtiene la referencia remota de tu repositorio en GitHub\n",
    "origin = repo.remote(name='origin')\n",
    "\n",
    "# Envía los cambios al repositorio remoto\n",
    "origin.push()\n"
   ]
  },
  {
   "cell_type": "markdown",
   "metadata": {},
   "source": [
    "Reemplaza /ruta/a/tu/proyecto con la ruta real de la carpeta donde se encuentra tu proyecto en tu computadora. También asegúrate de reemplazar archivo1.py y archivo2.py con los nombres de los archivos que deseas agregar al repositorio.\n",
    "Ahora puedes ejecutar este script cada vez que desees enviar cambios a GitHub. Para hacer esto, abre una terminal en la carpeta raíz de tu proyecto y ejecuta el siguiente comando:"
   ]
  },
  {
   "cell_type": "code",
   "execution_count": null,
   "metadata": {},
   "outputs": [],
   "source": [
    "python push_to_github.py"
   ]
  },
  {
   "cell_type": "markdown",
   "metadata": {},
   "source": [
    "Esto ejecutará el script push_to_github.py y enviará los cambios a tu repositorio de GitHub.\n",
    "\n",
    "Ten en cuenta que, para ejecutar este script, debes tener la biblioteca GitPython instalada en tu ambiente. Si aún no la tienes instalada, puedes instalarla utilizando el comando pip install GitPython."
   ]
  },
  {
   "cell_type": "markdown",
   "metadata": {},
   "source": [
    "No necesariamente. Si tus archivos están guardados en diferentes carpetas en tu computadora, aún puedes enviarlos a un repositorio de GitHub utilizando el mismo script de Python. Solo necesitas asegurarte de proporcionar la ruta correcta a cada archivo que deseas agregar al repositorio.\n",
    "\n",
    "Por ejemplo, supongamos que tienes dos archivos que deseas enviar a un repositorio de GitHub: archivo1.py y archivo2.py. archivo1.py está guardado en la carpeta /ruta/a/tu/proyecto/carpeta1, y archivo2.py está guardado en la carpeta /ruta/a/tu/proyecto/carpeta2. Puedes utilizar el siguiente código para agregar ambos archivos al repositorio de GitHub:"
   ]
  },
  {
   "cell_type": "code",
   "execution_count": null,
   "metadata": {
    "scrolled": true
   },
   "outputs": [],
   "source": [
    "import git\n",
    "\n",
    "# Inicializa el repositorio de Git\n",
    "repo = git.Repo('C:/Users/anita/Desktop/Data_Analyst/DataCamp/Git_Projects')\n",
    "#C:/Users/users/Desktop/file1/File2/Git'\n",
    "#../../MyFiles/archivo1.py\n",
    "\n",
    "# Añade el primer archivo al repositorio\n",
    "carpeta1 = \"../Preparation_au_Diplome_Universitaire/Proyecto_0\"\n",
    "ruta_archivo1 = carpeta1 + \"/Projet_0.Ana_ARMENTA.ipynb\"\n",
    "repo.index.add([ruta_archivo1])\n",
    "\n",
    "# Añade el segundo archivo al repositorio\n",
    "#carpeta2 = '/ruta/a/tu/proyecto/carpeta2'\n",
    "#ruta_archivo2 = carpeta2 + '/archivo2.py'\n",
    "#repo.index.add([ruta_archivo2])\n",
    "# Confirma los cambios con un mensaje de confirmación\n",
    "repo.index.commit(\"Mensaje de confirmación\")\n",
    "\n",
    "# Obtiene la referencia remota de tu repositorio en GitHub\n",
    "origin = repo.remote(name='origin')\n",
    "\n",
    "# Envía los cambios al repositorio remoto\n",
    "origin.push()\n"
   ]
  },
  {
   "cell_type": "markdown",
   "metadata": {},
   "source": [
    "Aquí, carpeta1 y carpeta2 son las rutas a las carpetas donde están guardados los archivos. ruta_archivo1 y ruta_archivo2 son las rutas completas a los archivos que deseas agregar al repositorio. Al agregar los archivos utilizando estas rutas completas, puedes agregar archivos que se encuentran en diferentes carpetas de tu proyecto al mismo repositorio de GitHub."
   ]
  },
  {
   "cell_type": "code",
   "execution_count": null,
   "metadata": {},
   "outputs": [],
   "source": []
  }
 ],
 "metadata": {
  "kernelspec": {
   "display_name": "Python 3 (ipykernel)",
   "language": "python",
   "name": "python3"
  },
  "language_info": {
   "codemirror_mode": {
    "name": "ipython",
    "version": 3
   },
   "file_extension": ".py",
   "mimetype": "text/x-python",
   "name": "python",
   "nbconvert_exporter": "python",
   "pygments_lexer": "ipython3",
   "version": "3.9.13"
  }
 },
 "nbformat": 4,
 "nbformat_minor": 4
}
